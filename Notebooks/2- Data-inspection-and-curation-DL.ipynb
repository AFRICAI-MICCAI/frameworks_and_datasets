{
 "cells": [
  {
   "attachments": {},
   "cell_type": "markdown",
   "metadata": {
    "colab_type": "text",
    "id": "view-in-github"
   },
   "source": [
    "The contents of this notebook are copied/redistributed and modified from [RSNA 2022 tutorials](https://github.com/RSNA/AI-Deep-Learning-Lab-2022/blob/main/sessions/data-curation/RSNA22_DLL_Data_Processing_Curation_for_Deep_Learning.ipynb) as per the [MIT License](https://github.com/RSNA/AI-Deep-Learning-Lab-2022/blob/main/LICENSE).\n",
    "\n",
    "<a href=\"https://colab.research.google.com/github/AFRICAI-MICCAI/model_development_1_data/blob/main/Notebooks/2-%20Data-inspection-and-curation-DL.ipynb\" target=\"_parent\"><img src=\"https://colab.research.google.com/assets/colab-badge.svg\" alt=\"Open In Colab\"/></a>"
   ]
  },
  {
   "attachments": {},
   "cell_type": "markdown",
   "metadata": {
    "id": "ivKSlWytF94p"
   },
   "source": [
    "\n",
    "# **Data Processing & Curation for Deep Learning**\n",
    "\n",
    "### In this session, we will build a **toolbox** of data processing techniques useful for deep learning applications.\n",
    "\n",
    "### Learning Objectives\n",
    "1. Extract relevant data from radiology and pathology reports\n",
    "2. Understand how to generate and process image-based annotations\n",
    "3. Perform image registration and normalization\n",
    "4. Recognize features of data formats ideal for deep learning\n",
    "\n",
    "### Course Description\n",
    "This course will provide attendees with the essential tools to perform data processing and curation necessary for deep learning projects. Attendees will start with free text radiology and pathology reports as well as anonymized DICOM data and process data into a unified data file ready for deep learning applications.\n"
   ]
  },
  {
   "cell_type": "markdown",
   "metadata": {},
   "source": [
    "## **Setting up the runtime environment...**\n",
    "\n",
    "### Conda environment\n",
    "It is suggested to create a conda environment for the summer school's notebooks. Please find conda installation instructions [here](https://docs.conda.io/projects/conda/en/latest/user-guide/install/index.html) (miniconda would be enough).  \n",
    "If you have not created/initialized the africai conda environment, run in a terminal from the parent  directory *model_development_1_data*:  \n",
    "> conda env create -f africai.yml  \n",
    "> conda activate africai\n",
    "\n",
    "*Other useful commands*:  \n",
    "To deactivate a conda environment \n",
    "> conda deactivate\n",
    "\n",
    "To delete a conda environment (e.g. africai conda environment, replace *ENV_NAME* with *africai*)\n",
    "> conda remove --name *ENV_NAME* --all "
   ]
  },
  {
   "cell_type": "markdown",
   "metadata": {},
   "source": [
    "### Install [Advanced Normalization Tools](http://stnava.github.io/ANTs/) (ants) \n",
    "In a terminal run, for MacOS:  \n",
    "> pip install https://github.com/ANTsX/ANTsPy/releases/download/v0.3.8/antspyx-0.3.8-cp310-cp310-macosx_10_9_x86_64.whl  \n",
    "\n",
    "For Linux:\n",
    "> pip install https://github.com/ANTsX/ANTsPy/releases/download/v0.3.8/antspyx-0.3.8-cp310-cp310-manylinux_2_17_x86_64.manylinux2014_x86_64.whl  \n",
    "\n",
    "For Windows:\n",
    "> pip install https://github.com/ANTsX/ANTsPy/releases/download/v0.3.8/antspyx-0.3.8-cp310-cp310-win_amd64.whl\n"
   ]
  },
  {
   "cell_type": "markdown",
   "metadata": {},
   "source": [
    "### Install rest dependencies\n",
    "Running the following cell will install the rest necessary libraries."
   ]
  },
  {
   "cell_type": "code",
   "execution_count": null,
   "metadata": {},
   "outputs": [],
   "source": [
    "%%capture\n",
    "\n",
    "!pip install matplotlib\n",
    "!pip install scikit-image\n",
    "!pip install simplejson\n",
    "!pip install pydicom\n",
    "!pip install dicom2nifti\n",
    "!pip install nipype\n",
    "!pip install h5py"
   ]
  },
  {
   "cell_type": "code",
   "execution_count": null,
   "metadata": {
    "_uuid": "0c1e51dbcbe223c29555c5188b0df55b10ed8b06",
    "id": "N2yr5s5_ebYI"
   },
   "outputs": [],
   "source": [
    "import matplotlib.pyplot as plt\n",
    "import os\n",
    "from pathlib import Path\n",
    "import numpy as np\n",
    "import pydicom\n",
    "import shutil as shutil\n",
    "import dicom2nifti\n",
    "import nibabel as nib\n",
    "import h5py\n",
    "import re\n",
    "from skimage import exposure\n",
    "from zipfile import ZipFile\n",
    "from pathlib import Path\n",
    "from IPython.display import HTML, display\n",
    "import ants\n",
    "\n",
    "\n",
    "def set_css():\n",
    "    display(\n",
    "        HTML(\n",
    "            \"\"\"\n",
    "  <style>\n",
    "    pre {\n",
    "        white-space: pre-wrap;\n",
    "    }\n",
    "  </style>\n",
    "  \"\"\"\n",
    "        )\n",
    "    )\n",
    "\n",
    "\n",
    "get_ipython().events.register(\"pre_run_cell\", set_css)"
   ]
  },
  {
   "cell_type": "markdown",
   "metadata": {},
   "source": [
    "## **Downloading the data**\n",
    "Running this cell will download the data for this demo."
   ]
  },
  {
   "cell_type": "code",
   "execution_count": null,
   "metadata": {
    "colab": {
     "base_uri": "https://localhost:8080/",
     "height": 35
    },
    "id": "x0XctlQu7Zi5",
    "outputId": "f3cbff5a-4a95-49c4-f6d2-897762fa3422"
   },
   "outputs": [],
   "source": [
    "data_dir = os.path.join(os.path.dirname(os.getcwd()), \"data\")\n",
    "Path(data_dir).mkdir(parents=True, exist_ok=True)\n",
    "\n",
    "!wget -P {data_dir} -q https://github.com/RSNA/AI-Deep-Learning-Lab-2022/raw/main/sessions/data-curation/Sample_DICOM.zip\n",
    "\n",
    "file_name = os.path.join(data_dir, \"Sample_DICOM.zip\")\n",
    "with ZipFile(file_name, \"r\") as zip:\n",
    "    zip.extractall(data_dir)\n",
    "    print(\"Input data file unzipped!\")"
   ]
  },
  {
   "cell_type": "markdown",
   "metadata": {},
   "source": [
    "## **Listing the data files**\n",
    "Running this cell will show you the directory structure for the provided sample prostate MRI data. We have three folders, each of which contains a series of files for T2 weighted imaging (T2WI), diffusion weighted imaging (DWI) and an ADC map (ADC). (Note: that the lesion.nii.gz is a backup file provided for the demo)\n",
    "\n",
    "This data has been directly exported from PACS in the DICOM format. This data can be loaded into a DICOM viewer to be visualized. A free option available to Mac OS users is Osirix Lite.\n",
    "\n"
   ]
  },
  {
   "cell_type": "code",
   "execution_count": null,
   "metadata": {
    "colab": {
     "base_uri": "https://localhost:8080/",
     "height": 1000
    },
    "id": "4G7THVqc9nSa",
    "outputId": "67040986-d429-4f9a-e85b-35aea1899ebc"
   },
   "outputs": [],
   "source": [
    "dcm_sample_path = os.path.join(data_dir, \"Sample_DICOM\")\n",
    "\n",
    "# Command line \"magic\" command to show directory contents\n",
    "if os.name == \"nt\":\n",
    "    !dir {dcm_sample_path}\n",
    "else:\n",
    "    !ls {dcm_sample_path}/**/*\n",
    "\n",
    "\n",
    "for current_dir, subdirs, files1 in os.walk(dcm_sample_path):\n",
    "    # Current Iteration Directory\n",
    "    print(current_dir)\n",
    "\n",
    "    # Directories\n",
    "    for dirname in subdirs:\n",
    "        print(\"\\t\" + dirname)\n",
    "\n",
    "    # Files\n",
    "    for filename in files1:\n",
    "        print(\"\\t\" + filename)"
   ]
  },
  {
   "attachments": {},
   "cell_type": "markdown",
   "metadata": {
    "id": "ZtQwbpTGClTO"
   },
   "source": [
    "## **Preparing the data for annotation and further processing**\n",
    "\n",
    "DICOM files are not always a convenient format to work with for deep learning. The first step that we will take will be conversion of our DICOM files to [nifti](https://nifti.nimh.nih.gov/), an open source image file format that has good interoperability between many available image processing tools and packages. "
   ]
  },
  {
   "cell_type": "markdown",
   "metadata": {},
   "source": [
    "### **Conversion to nifti file format**\n",
    "Run this cell to convert our DICOM files to nifti files. Each folder of DICOM files (a series) will be converted into a nifti file"
   ]
  },
  {
   "cell_type": "code",
   "execution_count": null,
   "metadata": {
    "colab": {
     "base_uri": "https://localhost:8080/",
     "height": 35
    },
    "id": "OzGY9HmjB4co",
    "outputId": "49360b56-01a9-4f20-9c48-39c56cda0bd3"
   },
   "outputs": [],
   "source": [
    "niftipath = os.path.join(dcm_sample_path, \"nifti\")\n",
    "os.makedirs(niftipath, exist_ok=True)\n",
    "\n",
    "for series in [\"T2\", \"DWI\", \"ADC\"]:\n",
    "    dicom2nifti.dicom_series_to_nifti(\n",
    "        os.path.join(dcm_sample_path, series),\n",
    "        os.path.join(niftipath, (series + \".nii\")),\n",
    "        reorient_nifti=True,\n",
    "    )\n",
    "print(\"Data converted!\")"
   ]
  },
  {
   "attachments": {},
   "cell_type": "markdown",
   "metadata": {
    "id": "QbyHwpw7NlLj"
   },
   "source": [
    "### **Visualizing the data**\n",
    "\n",
    "There are many options for image visualization and annotation. Two easy and versatile open source tools are [**Mango**](https://mangoviewer.com/) and [**itk-SNAP**](http://www.itksnap.org). There are versions for windows, macOS and linux available to download and install. \n",
    "\n",
    "As an example, open Mango and navigate as follows:  \n",
    "&rarr; *Open*  \n",
    "&rarr; *Open Image...*  \n",
    "&rarr; Browse to *<your_path>/model_development_1_data/data/Sample_DICOM/nifti* and select the nifti file for the T2 series  \n",
    "&rarr; *Window* &rarr; *Maximize* (to maximize the visualization)\n",
    "\n",
    "A brief and handy Mango user guide can be found [here](https://mangoviewer.com/userguide.html).\n",
    "\n",
    "To visualize the provided lesion segmentation, navigate in the window where the data is visualized as follows:  \n",
    "&rarr; *File*  \n",
    "&rarr; *Add Overlay...*  \n",
    "&rarr; Browse to *<your_path>/model_development_1_data/data/Sample_DICOM* and select the file *lesion.nii.gz*"
   ]
  },
  {
   "attachments": {},
   "cell_type": "markdown",
   "metadata": {
    "id": "-gpBnVsNn01o"
   },
   "source": [
    "## **Image Registration**\n",
    "\n",
    "You may have multiple series (by CT or MRI) that you want registered to each other for your deep learning project. There are many ways to do this, some easier than others. The open source libraries [**Advanced Normalization Tools**](http://stnava.github.io/ANTs/) (ants) or [**NiftyReg**](http://cmictig.cs.ucl.ac.uk/wiki/index.php/NiftyReg) are helpful for this purpose.  \n",
    "In this example we will employ ants."
   ]
  },
  {
   "cell_type": "markdown",
   "metadata": {},
   "source": [
    "Note that ADC and DWI images are not registered to T2 images. Note that the lesion file is registered to T2 as that is those are the images we used for the annotation."
   ]
  },
  {
   "cell_type": "code",
   "execution_count": null,
   "metadata": {
    "colab": {
     "base_uri": "https://localhost:8080/",
     "height": 351
    },
    "id": "D7sALW9pF1GL",
    "outputId": "667d8710-fd2a-4fdd-c36d-54871f9f7f0d"
   },
   "outputs": [],
   "source": [
    "# get pixel data from nifti files\n",
    "t2_img = nib.load(os.path.join(niftipath, \"T2.nii\"))\n",
    "data_t2 = np.rot90(t2_img.get_fdata())\n",
    "adc_img = nib.load(os.path.join(niftipath, \"ADC.nii\"))\n",
    "data_adc = np.rot90(adc_img.get_fdata())\n",
    "dwi_img = nib.load(os.path.join(niftipath, \"DWI.nii\"))\n",
    "data_dwi = np.rot90(dwi_img.get_fdata())\n",
    "seg_img = nib.load(os.path.join(dcm_sample_path, \"lesion.nii.gz\"))\n",
    "data_seg = np.rot90(seg_img.get_fdata())\n",
    "\n",
    "# plot image\n",
    "fig, axes = plt.subplots(ncols=4, nrows=1, figsize=(36, 24), sharex=True, sharey=True)\n",
    "ax0 = axes[0]\n",
    "ax1 = axes[1]\n",
    "ax2 = axes[2]\n",
    "ax3 = axes[3]\n",
    "ax0.imshow(data_t2[:, :, 12], cmap=\"gray\")\n",
    "ax0.set_title(\"T2\")\n",
    "ax1.imshow(data_adc[:, :, 12], cmap=\"gray\")\n",
    "ax1.set_title(\"ADC\")\n",
    "ax2.imshow(data_dwi[:, :, 12], cmap=\"gray\")\n",
    "ax2.set_title(\"DWI\")\n",
    "ax3.imshow(data_seg[:, :, 12], cmap=\"Blues\", alpha=0.5)\n",
    "ax3.set_title(\"Lesion\")\n",
    "plt.tight_layout()\n",
    "plt.rcParams.update({\"font.size\": 40})"
   ]
  },
  {
   "cell_type": "markdown",
   "metadata": {},
   "source": [
    "### **Register your images**\n",
    "Register the T2, DWI and ADC series. Different pixel and slice spacing as well as field of view is used for T2 versus DWI and ADC imaging."
   ]
  },
  {
   "cell_type": "code",
   "execution_count": null,
   "metadata": {
    "colab": {
     "base_uri": "https://localhost:8080/",
     "height": 17
    },
    "id": "MYUNrrMAgp7i",
    "outputId": "62ea2312-4697-4d71-c687-ba1a84671135"
   },
   "outputs": [],
   "source": [
    "t2_ants = ants.from_nibabel(t2_img)\n",
    "adc_ants = ants.from_nibabel(adc_img)\n",
    "dwi_ants = ants.from_nibabel(dwi_img)\n",
    "\n",
    "mytx = ants.registration(fixed=t2_ants, moving=adc_ants, type_of_transform=\"SyN\")\n",
    "adc_regis_ants = ants.apply_transforms(\n",
    "    fixed=t2_ants, moving=adc_ants, transformlist=mytx[\"fwdtransforms\"]\n",
    ")\n",
    "adc_regis = ants.to_nibabel(adc_regis_ants)\n",
    "\n",
    "mytx = ants.registration(fixed=t2_ants, moving=dwi_ants, type_of_transform=\"SyN\")\n",
    "dwi_regis_ants = ants.apply_transforms(\n",
    "    fixed=t2_ants, moving=dwi_ants, transformlist=mytx[\"fwdtransforms\"]\n",
    ")\n",
    "dwi_regis = ants.to_nibabel(dwi_regis_ants)"
   ]
  },
  {
   "cell_type": "markdown",
   "metadata": {},
   "source": [
    "## **Visualize the registered images**"
   ]
  },
  {
   "cell_type": "code",
   "execution_count": null,
   "metadata": {
    "colab": {
     "base_uri": "https://localhost:8080/",
     "height": 360
    },
    "id": "KlBb9RzITjXG",
    "outputId": "38c2bd0b-3ebd-401f-86c0-2f6da22a840d"
   },
   "outputs": [],
   "source": [
    "# get pixel data from nifti files\n",
    "data_t2 = np.rot90(t2_img.get_fdata())\n",
    "data_adc = np.rot90(adc_regis.get_fdata())\n",
    "data_dwi = np.rot90(dwi_regis.get_fdata())\n",
    "data_lesion = np.rot90(seg_img.get_fdata())\n",
    "\n",
    "# plot image\n",
    "fig, axes = plt.subplots(ncols=4, nrows=1, figsize=(36, 24), sharex=True, sharey=True)\n",
    "ax0 = axes[0]\n",
    "ax1 = axes[1]\n",
    "ax2 = axes[2]\n",
    "ax3 = axes[3]\n",
    "ax0.imshow(data_t2[:, :, 12], cmap=\"gray\")\n",
    "ax0.set_title(\"T2\")\n",
    "ax1.imshow(data_adc[:, :, 12], cmap=\"gray\")\n",
    "ax1.set_title(\"ADC\")\n",
    "ax2.imshow(data_dwi[:, :, 12], cmap=\"gray\")\n",
    "ax2.set_title(\"DWI\")\n",
    "ax3.imshow(data_lesion[:, :, 12], cmap=\"Blues\", alpha=0.5)\n",
    "ax3.set_title(\"Lesion\")\n",
    "plt.tight_layout()\n",
    "plt.rcParams.update({\"font.size\": 40})"
   ]
  },
  {
   "attachments": {},
   "cell_type": "markdown",
   "metadata": {
    "id": "59cicmDCsF5w"
   },
   "source": [
    "## **Image Normalization**\n",
    "\n",
    "Image normalization can be a critical step to help correct for scanner and exam variation in aquisition, especially for MRI images."
   ]
  },
  {
   "cell_type": "markdown",
   "metadata": {},
   "source": [
    "### **Normalize your images**\n",
    "This normalization is being performed over the entire imaged volume for each series. An alternate approach would be to normalize based on pixels within a region of interest.\n",
    "\n",
    "\n"
   ]
  },
  {
   "cell_type": "code",
   "execution_count": null,
   "metadata": {
    "colab": {
     "base_uri": "https://localhost:8080/",
     "height": 17
    },
    "id": "d5TfZZU56MCc",
    "outputId": "1cb345f7-4851-4e6b-9233-89b2dd1ef5bf"
   },
   "outputs": [],
   "source": [
    "# Define function for normalization\n",
    "def normalize_equalize(t2):\n",
    "    p1, p2 = np.percentile(t2[t2 != 0], (0.1, 99.9))\n",
    "    t2_rescale = exposure.rescale_intensity(t2, in_range=(p1, p2), out_range=(0, 1))\n",
    "    t2_rescale_equalize = exposure.equalize_hist(t2_rescale)\n",
    "    return t2_rescale_equalize\n",
    "\n",
    "\n",
    "# Normalize each series\n",
    "data_t2_norm = normalize_equalize(data_t2)\n",
    "data_adc_norm = normalize_equalize(data_adc)\n",
    "data_dwi_norm = normalize_equalize(data_dwi)"
   ]
  },
  {
   "cell_type": "markdown",
   "metadata": {},
   "source": [
    "### **Visualize the normalized images**"
   ]
  },
  {
   "cell_type": "code",
   "execution_count": null,
   "metadata": {
    "colab": {
     "base_uri": "https://localhost:8080/",
     "height": 360
    },
    "id": "nql-5JKDJCba",
    "outputId": "f0b6e764-3f94-4fd5-82bf-dd4c254db402"
   },
   "outputs": [],
   "source": [
    "# plot image\n",
    "fig, axes = plt.subplots(ncols=4, nrows=1, figsize=(36, 24), sharex=True, sharey=True)\n",
    "ax0 = axes[0]\n",
    "ax1 = axes[1]\n",
    "ax2 = axes[2]\n",
    "ax3 = axes[3]\n",
    "ax0.imshow(data_t2_norm[:, :, 12], cmap=\"gray\")\n",
    "ax0.set_title(\"T2\")\n",
    "ax1.imshow(data_adc_norm[:, :, 12], cmap=\"gray\")\n",
    "ax1.set_title(\"ADC\")\n",
    "ax2.imshow(data_dwi_norm[:, :, 12], cmap=\"gray\")\n",
    "ax2.set_title(\"DWI\")\n",
    "ax3.imshow(data_lesion[:, :, 12], cmap=\"Blues\", alpha=0.5)\n",
    "ax3.set_title(\"Lesion\")\n",
    "plt.tight_layout()\n",
    "plt.rcParams.update({\"font.size\": 40})"
   ]
  },
  {
   "attachments": {},
   "cell_type": "markdown",
   "metadata": {
    "id": "ifKIsfFXsLI9"
   },
   "source": [
    "## **Free text report processing**\n",
    "\n",
    "Oftentimes, valuable information for ground truth will need to be processed from free text reports. For this demonstration, the prostate lesion that we annotated needs to be linked to results from a biopsy report."
   ]
  },
  {
   "cell_type": "markdown",
   "metadata": {},
   "source": [
    "### **View the raw free text pathology report**"
   ]
  },
  {
   "cell_type": "code",
   "execution_count": null,
   "metadata": {
    "colab": {
     "base_uri": "https://localhost:8080/",
     "height": 1000
    },
    "id": "NdxSDYQrOWZk",
    "outputId": "9f90efc7-883c-4cde-f23c-fc6eadea8169"
   },
   "outputs": [],
   "source": [
    "report = 'XXX DEPARTMENT OF PATHOLOGY XXX ADDRESS TEL: XXX  FAX: XXXX  ; ;SURGICAL PATHOLOGY REPORT  ;Patient Name: XXX Med. Rec.#: XXXXXXX DOB: XX/XX/XXXX (Age: XX) Sex: Male Accession #: XX Visit #: XXX Service Date: XX/XX/XXXX Received: XX/XX/XXXX Location: XX Client:XX  Physician(s): XX; ;FINAL PATHOLOGIC DIAGNOSIS  ;A. Prostate, right apex, needle core biopsy:  High-grade prostatic intraepithelial neoplasia (HGPIN); see comment.   ;B. Prostate, right mid, needle core biopsy:  Prostatic adenocarcinoma, Gleason score 4+4=8; see comment.    ;C. Prostate, right base, needle core biopsy:  Prostatic adenocarcinoma, Gleason score 4+4=8; see comment.    ;D. Prostate, right anterior, needle core biopsy:  Atypical small acinar proliferation (ASAP); see comment.   ;E. Prostate, left apex, needle core biopsy:  Benign prostatic tissue.  ;F. Prostate, left mid, needle core biopsy:  Prostatic adenocarcinoma, Gleason score 3+3=6; see comment.    ;G. Prostate, left base, needle core biopsy:  Benign prostatic tissue.   ;H. Prostate, left anterior, needle core biopsy:  Benign prostatic tissue.    ;I. Prostate, \"left mid US lesion\", needle core biopsy:  Benign prostatic tissue.    ;J. Prostate, \"right base US lesion\", needle core biopsy:  Prostatic adenocarcinoma, Gleason score 4+4=8; see comment.    ;K. Prostate, \"MRI #1 right mid/base posterior\", needle core biopsy: Prostatic adenocarcinoma, Gleason score 4+4=8; see comment.     ; ;COMMENT: Immunohistochemical staining for p63/CK903/P504S was performed on blocks A1, D1, and F1. In part A (right apex), all glands show at least partially retained basal cells with some of the glands demonstrating increased P504S staining, supporting high-grade prostatic intraepithelial neoplasia (HGPIN). In part D (right anterior), a focus composed of 7-8 small atypical glands are seen, and these glands demonstrate no retained basal cells by immunostaining, but lack definite infiltrative growth pattern with no increased P504S staining, and are best classified as atypical small acinar proliferation (ASAP). In part F (left mid), atypical glands show no retained basal cells with increased P504S staining, supporting the diagnosis of adenocarcinoma.   ;The Gleason pattern 4 in this case is of the expansile cribriform and cribriform types.   ;Specimen B  2 of 2 cores contain carcinoma. The total length of tumor in all of the cores is 11 mm. The total length of tissue in all of the cores is 21 mm. The percentage of the tissue involved by tumor is 52%. The percentage of tumor greater than Gleason pattern 3 is 100%. Perineural invasion is not present. No extraprostatic tumor is seen.  ;Specimen C  2 of 2 cores contain carcinoma. The total length of tumor in all of the cores is 21 mm. The total length of tissue in all of the cores is 28 mm. The percentage of the tissue involved by tumor is 75%. The percentage of tumor greater than Gleason pattern 3 is &gt; 95%. Perineural invasion is not present. No extraprostatic tumor is seen.  ;Specimen F  1 of 3 cores contains carcinoma. The total length of tumor in all of the cores is 2 mm. The total length of tissue in all of the cores is 34 mm. The percentage of the tissue involved by tumor is 6%. The percentage of tumor greater than Gleason pattern 3 is 0%. Perineural invasion is not present. No extraprostatic tumor is seen.  ;Specimen J  2 of 2 cores contain carcinoma. The total length of tumor in all of the cores is 28 mm. The total length of tissue in all of the cores is 31 mm. The percentage of the tissue involved by tumor is 90%. The percentage of tumor greater than Gleason pattern 3 is &gt;95%. Perineural invasion is not present. No extraprostatic tumor is seen.  ;Specimen K  2 of 3 cores contain carcinoma. The total length of tumor in all of the cores is 16 mm. The total length of tissue in all of the cores is 37 mm. The percentage of the tissue involved by tumor is 43%. The percentage of tumor greater than Gleason pattern 3 is &gt;95%. Perineural invasion is not present. No extraprostatic tumor is seen.  ; ;Specimen(s) Received A:Right apex B:Right mid C:Right base D:Right anterior E:Left apex F:Left mid G:Left base H:Left anterior I:Left mid US lesion J:Right base US lesion K:MRI #1 right mid/base posterior  ; ;Clinical History The patient is a 72-year-old man with an elevated PSA in two subsequent occasions (28 and 31), estimated prostatic volume of 29.4 cc with ultrasound revealing a right anterior base and left mid gland lesions, and MRI revealing a right mid/base lesion with extracapsular extension. No previous biopsies. Overall PI-RADS v2 score = 5.   ; ;Gross Description The case is received in 11 parts, each labeled with the patient name and medical record number.  ;Part A is received in formalin and additionally labeled \"right apex,\" consists of two 0.1 cm-thick cores of soft tan-white tissue.  The cores each have a length of 2 cm and 1.5 cm.  The specimen is entirely submitted in cassette A1.  (lds)  ;Part B is received in formalin and additionally labeled \"right mid,\" consists of two 0.1 cm-thick cores of soft yellow-gold tissue.  The cores each have a length of 1 cm and 1.1 cm.  The specimen is entirely submitted in cassette B1.  (lds)  ;Part C is received in formalin and additionally labeled \"right base,\" consists of two 0.1 cm-thick cores of soft yellow-gold tissue.  The cores each have a length of 1.7 cm and 1.1 cm.  The specimen is entirely submitted in cassette C1.  (lds)  ;Part D is received in formalin and additionally labeled \"right anterior,\" consists of a single 0.1 cm-thick core of soft tan-white tissue.  The core has a length of 1.6 cm.  The specimen is entirely submitted in cassette D1.  (lds)  ;Part E is received in formalin and additionally labeled \"left apex,\" consists of two 0.1 cm-thick cores of soft tan-white tissue.  The cores each have a length of 1.5 cm and 1 cm.  The specimen is entirely submitted in cassette E1.  (lds)  ;Part F is received in formalin and additionally labeled \"left mid,\" consists of two 0.1 cm-thick cores of soft tan-white tissue.  The cores each have a length of 2 cm and 1.7 cm.  The specimen is entirely submitted in cassette F1.  (lds)  ;Part G is received in formalin and additionally labeled \"left base,\" consists of two 0.1 cm-thick cores of soft tan-white tissue.  The cores each have a length of 1.5 cm and 1.8 cm.  The specimen is entirely submitted in cassette G1.  (lds)  ;Part H is received in formalin and additionally labeled \"left anterior,\" consists of a single 0.1 cm-thick core of soft tan-white tissue.  The core has a length of 2.2 cm.  The specimen is entirely submitted in cassette H1.  (lds)  ;Part I is received in formalin and additionally labeled \"US lesion left mid,\" consists of two 0.1 cm-thick cores of soft tan-white tissue.  The cores each have a length of 1.8 cm and 1.4 cm.  The specimen is entirely submitted in cassette I1.  (lds)  ;Part J is received in formalin and additionally labeled \"US lesion right base,\" consists of two 0.1 cm-thick cores of soft white-pink tissue.  The cores each have a length of 1.6 cm and 1.5 cm.  The specimen is entirely submitted in cassette J1.  (lds)  ;Part K is received in formalin and additionally labeled \"MRI #1, right mid/base posterior,\" consists of three 0.1 cm-thick cores of soft white-pink tissue.  The cores each have a length of 0.4 cm, 1.3 cm and 2 cm.  The specimen is entirely submitted in cassette K1.  (lds)  ;All controls performed with the immunohistochemical stains reported above reacted appropriately. These immunohistochemical stains were developed and their performance characteristics determined by the XXX Department of Pathology. They have not been cleared or approved by the U. S. Food and Drug Administration. The FDA has determined that such clearance or approval is not necessary. These tests are used for clinical purposes. They should not be regarded as investigational or for research. This laboratory is certified under the Clinical Laboratory Improvement Amendments of 1988 (\"CLIA\") as qualified to perform high-complexity clinical testing.  ;Diagnosis based on gross and microscopic examinations.  Final diagnosis made by attending pathologist following review of all pathology slides.  The attending pathologist has reviewed all dictations, including prosector work, and preliminary interpretations performed by any resident involved in the case and performed all necessary edits before signing the final report.  ;XXX/Pathology Resident XXX/Pathologist      Electronically signed out on XX/XX/XXXX XX:XX  ;'\n",
    "print(report)"
   ]
  },
  {
   "cell_type": "markdown",
   "metadata": {},
   "source": [
    "### **Trim the free text pathology report to the section with results of interest**"
   ]
  },
  {
   "cell_type": "code",
   "execution_count": null,
   "metadata": {
    "colab": {
     "base_uri": "https://localhost:8080/",
     "height": 160
    },
    "id": "lNfI3tjsQxDR",
    "outputId": "b7aba64a-4d93-41ba-b9d7-5c036ed319ba"
   },
   "outputs": [],
   "source": [
    "report_trim = report.split(\"FINAL PATHOLOGIC DIAGNOSIS\")[1].split(\"COMMENT:\")[0]\n",
    "print(report_trim)"
   ]
  },
  {
   "cell_type": "markdown",
   "metadata": {},
   "source": [
    "### **Split the free text pathology report into each individual result**"
   ]
  },
  {
   "cell_type": "code",
   "execution_count": null,
   "metadata": {
    "colab": {
     "base_uri": "https://localhost:8080/",
     "height": 231
    },
    "id": "DvL4cFFbRboo",
    "outputId": "915cc479-60c1-4ea1-c628-14413bcfeb19"
   },
   "outputs": [],
   "source": [
    "import re\n",
    "\n",
    "\n",
    "def path_process(report):\n",
    "    # split by path result by location\n",
    "    report1 = re.split(\"[A-Z][.] \", report)\n",
    "    if len(report1) == 1:\n",
    "        report1 = re.split(\n",
    "            \"[0-9][.] \",\n",
    "            report.split(\"CLINICAL DATA\")[0]\n",
    "            .split(\"++++++++++Addendum.++++++++++\")[0]\n",
    "            .split(\"COMMENT\")[0],\n",
    "        )\n",
    "    # remove leading prostate phrase\n",
    "    repor_t2 = [\n",
    "        x.lstrip(\" \").lstrip(\"Prostate\").lstrip(\" gland\").lstrip(\", \").lstrip(\" - \")\n",
    "        for x in report1\n",
    "    ]\n",
    "    return repor_t2\n",
    "\n",
    "\n",
    "repor_t2 = path_process(report_trim)\n",
    "\n",
    "for i in repor_t2:\n",
    "    print(i)"
   ]
  },
  {
   "cell_type": "markdown",
   "metadata": {},
   "source": [
    "### **Identify any pathology results for MRI targets**"
   ]
  },
  {
   "cell_type": "code",
   "execution_count": null,
   "metadata": {
    "colab": {
     "base_uri": "https://localhost:8080/",
     "height": 35
    },
    "id": "dNH7xXAjSy9e",
    "outputId": "b2b77d77-13ac-46f0-878f-34e3fcf81fa6"
   },
   "outputs": [],
   "source": [
    "report_MR = [x for x in repor_t2 if any(y in x for y in [\"MR\", \"MRI\"])]\n",
    "print(report_MR)"
   ]
  },
  {
   "cell_type": "markdown",
   "metadata": {},
   "source": [
    "Isolate the Gleason score for the MRI target. The ISUP grade group is more convenient to store for ground truth as a single integer and therefore has also been calculated."
   ]
  },
  {
   "cell_type": "code",
   "execution_count": null,
   "metadata": {
    "colab": {
     "base_uri": "https://localhost:8080/",
     "height": 53
    },
    "id": "c_9l8METU0w3",
    "outputId": "ed844aad-4b97-4e3b-8430-7cd0e0ebcce6"
   },
   "outputs": [],
   "source": [
    "gleason = report_MR[0].split(\"+\")\n",
    "print(\n",
    "    \"Gleason Score =\",\n",
    "    int(gleason[0].strip(\" \")[-1]),\n",
    "    \"+\",\n",
    "    int(gleason[1].strip(\" \")[0]),\n",
    ")\n",
    "\n",
    "\n",
    "# convert to more useable ISUP score\n",
    "def GleasonGrade(gleason1, gleason2):\n",
    "    if (gleason1 + gleason2) == 0:\n",
    "        GG = 0\n",
    "    elif ((gleason1 + gleason2) <= 6) & ((gleason1 + gleason2) != 0):\n",
    "        GG = 1\n",
    "    elif (gleason1 == 3) and (gleason2 == 4):\n",
    "        GG = 2\n",
    "    elif (gleason1 == 4) and (gleason2 == 3):\n",
    "        GG = 3\n",
    "    elif (gleason1 + gleason2) == 8:\n",
    "        GG = 4\n",
    "    elif (gleason1 + gleason2) == 9 or (gleason1 + gleason2) == 10:\n",
    "        GG = 5\n",
    "    else:\n",
    "        GG = float(\"nan\")\n",
    "    return GG\n",
    "\n",
    "\n",
    "GG = GleasonGrade(int(gleason[0].strip(\" \")[-1]), int(gleason[1].strip(\" \")[0]))\n",
    "print(\"Gleason Grade =\", GG)"
   ]
  },
  {
   "attachments": {},
   "cell_type": "markdown",
   "metadata": {
    "id": "HjhVeeJTsR1U"
   },
   "source": [
    "## **Conversion to ideal format for storage and model development**\n",
    "\n",
    "You have now imported in your MRI images, inspected the lesion segmentation, registered multiple series to each other, normalized your imaging data and processed a pathology report to obtain a biopsy result for the annotated MRI lesion. \n",
    "\n",
    "You have multiple options for how to store this data. A convenient option is to choose a file format with the ability to handle heterogeneous data simultaneously including numerical arrays and strings. One such option is [**hdf5**](https://www.hdfgroup.org/solutions/hdf5/)."
   ]
  },
  {
   "cell_type": "markdown",
   "metadata": {},
   "source": [
    "### **Convert your data to hdf5**\n",
    "Add the imaging data, lesion annotation and pathology groundtruth to a single hdf5 file.  \n",
    "Here you have the choice for whether to combine your imaging inputs and/or lesion annotation into a multichannel input versus keeping each separate from each other and likely combining in a later step. For now, we have kept them separate."
   ]
  },
  {
   "cell_type": "code",
   "execution_count": null,
   "metadata": {
    "colab": {
     "base_uri": "https://localhost:8080/",
     "height": 106
    },
    "id": "kXySeCezZQdU",
    "outputId": "e82b3318-4d33-4a75-da4b-206f95c76342"
   },
   "outputs": [],
   "source": [
    "# create hdf5 file\n",
    "f = h5py.File(os.path.join(dcm_sample_path, \"data_point_example.hdf5\"), \"w\")\n",
    "\n",
    "# assign datasets (datasets have to be numerical data)\n",
    "dset = f.create_dataset(\"T2\", data=data_t2_norm)\n",
    "dset = f.create_dataset(\"ADC\", data=data_adc_norm)\n",
    "dset = f.create_dataset(\"DWI\", data=data_dwi_norm)\n",
    "dset = f.create_dataset(\"Lesion_mask\", data=data_lesion)\n",
    "dset = f.create_dataset(\"Lesion_GG\", data=GG)\n",
    "\n",
    "# assign attributes (can be strings or lists of data)\n",
    "f.attrs[\"ID\"] = \"data_point_000\"\n",
    "\n",
    "print(\"hdf5 file created\")\n",
    "print(\"datasets:\")\n",
    "print(list(f.keys()))\n",
    "print(\"attributes:\")\n",
    "print(list(f.attrs.keys()))"
   ]
  },
  {
   "attachments": {},
   "cell_type": "markdown",
   "metadata": {},
   "source": [
    "### Acknowledgments\n",
    "An earlier version of this notebook was presented at the 2021 Radiological Society of North America Annual Meeting. The pathology report analysis was previously presented at the 2020 Radiological Society of North America Annual Meeting.\n",
    "\n",
    "We would also like to acknowledge the general advice of research collaborators:\n",
    "- Christopher Bridge, PhD\n",
    "- Abhejit Rajagopal, PhD"
   ]
  }
 ],
 "metadata": {
  "colab": {
   "include_colab_link": true,
   "provenance": []
  },
  "kernelspec": {
   "display_name": "Python 3",
   "name": "python3"
  },
  "language_info": {
   "codemirror_mode": {
    "name": "ipython",
    "version": 3
   },
   "file_extension": ".py",
   "mimetype": "text/x-python",
   "name": "python",
   "nbconvert_exporter": "python",
   "pygments_lexer": "ipython3",
   "version": "3.10.12"
  }
 },
 "nbformat": 4,
 "nbformat_minor": 0
}
